{
 "cells": [
  {
   "cell_type": "code",
   "execution_count": null,
   "id": "f2348c58",
   "metadata": {},
   "outputs": [
    {
     "name": "stdout",
     "output_type": "stream",
     "text": [
      "\n",
      "--- Training Set Performance ---\n",
      "Train MSE: 83.11\n",
      "Train RMSE: 9.12\n",
      "Train R² Score: 0.56\n",
      "\n",
      "--- Test Set Performance ---\n",
      "Test MSE: 53.51\n",
      "Test RMSE: 7.31\n",
      "Test R² Score: 0.68\n"
     ]
    }
   ],
   "source": [
    "import pandas as pd\n",
    "import numpy as np\n",
    "import matplotlib.pyplot as plt\n",
    "from sklearn.linear_model import LinearRegression\n",
    "from sklearn.preprocessing import MinMaxScaler\n",
    "from sklearn.model_selection import train_test_split\n",
    "from sklearn.metrics import mean_squared_error, r2_score\n",
    "\n",
    "\n",
    "df = pd.read_csv(r'C:\\Users\\tyt36\\OneDrive\\Desktop\\ML\\week2\\Real estate.csv', low_memory=False)\n",
    "\n",
    "x = df[['X1 transaction date', 'X2 house age', 'X3 distance to the nearest MRT station',\n",
    "        'X4 number of convenience stores', 'X5 latitude', 'X6 longitude']]\n",
    "y = np.array(df['Y house price of unit area'])\n",
    "\n",
    "scaler = MinMaxScaler()\n",
    "x = scaler.fit_transform(x)\n",
    "\n",
    "[x_train, x_test, y_train, y_test] = train_test_split(x, y, test_size=0.2, random_state=42)\n",
    "\n",
    "model = LinearRegression()\n",
    "model.fit(x_train,y_train)\n",
    "y_predict_train = model.predict(x_train)\n",
    "y_predict_test = model.predict(x_test)\n",
    "\n",
    "train_mse = mean_squared_error(y_train, y_predict_train)\n",
    "train_rmse = np.sqrt(train_mse)\n",
    "train_r2 = r2_score(y_train, y_predict_train)\n",
    "\n",
    "mse = mean_squared_error(y_test, y_predict_test)\n",
    "rmse = np.sqrt(mse)\n",
    "r2 = r2_score(y_test, y_predict_test)\n",
    "\n",
    "print(\"\\n--- Training Set Performance ---\")\n",
    "print(f\"Train MSE: {train_mse:.2f}\")\n",
    "print(f\"Train RMSE: {train_rmse:.2f}\")\n",
    "print(f\"Train R² Score: {train_r2:.2f}\")\n",
    "\n",
    "print(\"\\n--- Test Set Performance ---\")\n",
    "print(f\"Test MSE: {mse:.2f}\")\n",
    "print(f\"Test RMSE: {rmse:.2f}\")\n",
    "print(f\"Test R² Score: {r2:.2f}\")"
   ]
  }
 ],
 "metadata": {
  "kernelspec": {
   "display_name": "Python 3",
   "language": "python",
   "name": "python3"
  },
  "language_info": {
   "codemirror_mode": {
    "name": "ipython",
    "version": 3
   },
   "file_extension": ".py",
   "mimetype": "text/x-python",
   "name": "python",
   "nbconvert_exporter": "python",
   "pygments_lexer": "ipython3",
   "version": "3.12.3"
  }
 },
 "nbformat": 4,
 "nbformat_minor": 5
}
